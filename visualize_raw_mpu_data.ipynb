{
 "cells": [
  {
   "cell_type": "markdown",
   "metadata": {},
   "source": [
    "## reading mpu6050 data\n",
    "which is transferred from arduino over a serial link"
   ]
  },
  {
   "cell_type": "raw",
   "metadata": {},
   "source": [
    "data is in range:\n",
    "time[0] in ms\n",
    "gyro[1:4] up to +-1000 degrees/sec\n",
    "acceleration[4:7] up to +-8g (+- 78.48m/s^2)"
   ]
  },
  {
   "cell_type": "code",
   "execution_count": 1,
   "metadata": {},
   "outputs": [],
   "source": [
    "%reset -f\n",
    "import numpy as np\n",
    "import serial\n",
    "import time\n",
    "\n",
    "global pi\n",
    "pi = np.pi"
   ]
  },
  {
   "cell_type": "code",
   "execution_count": 2,
   "metadata": {},
   "outputs": [
    {
     "name": "stdout",
     "output_type": "stream",
     "text": [
      "COM5 - Standardmäßgige Seriell-über-Bluetooth-Verbindung (COM5)\n",
      "COM6 - Standardmäßgige Seriell-über-Bluetooth-Verbindung (COM6)\n",
      "COM3 - USB-SERIAL CH340 (COM3)\n"
     ]
    }
   ],
   "source": [
    "import serial.tools.list_ports as port_list\n",
    "ports = list(port_list.comports())\n",
    "for p in ports:\n",
    "\tprint(p)"
   ]
  },
  {
   "cell_type": "code",
   "execution_count": 3,
   "metadata": {},
   "outputs": [],
   "source": [
    "COMport = 'COM3'"
   ]
  },
  {
   "cell_type": "code",
   "execution_count": 4,
   "metadata": {},
   "outputs": [
    {
     "name": "stdout",
     "output_type": "stream",
     "text": [
      "b'start up\\r\\n'\n",
      "b'setup complete\\r\\n'\n",
      "b'12032 -0.05188 0.00000 -0.02655 -0.02002 -0.03101 0.91846\\r\\n'\n",
      "b'12 -0.05188 0.03052 0.00397 -0.01929 -0.03052 0.91870\\r\\n'\n",
      "b'11 -0.05188 0.00000 0.00397 -0.02051 -0.03174 0.91699\\r\\n'\n",
      "b'14 0.00916 0.03052 -0.02655 -0.02026 -0.03198 0.91357\\r\\n'\n",
      "b'20 -0.02136 0.03052 -0.02655 -0.02197 -0.03125 0.91479\\r\\n'\n",
      "b'20 0.00916 -0.09155 -0.02655 -0.02124 -0.02905 0.91650\\r\\n'\n",
      "b'20 -0.08240 -0.03052 0.00397 -0.01831 -0.02979 0.91553\\r\\n'\n",
      "b'20 -0.02136 0.00000 0.00397 -0.01978 -0.03320 0.91406\\r\\n'\n"
     ]
    }
   ],
   "source": [
    "#read raw data\n",
    "s = serial.Serial(port=COMport, baudrate=115200, bytesize=serial.EIGHTBITS, timeout=2)\n",
    "for i in range(10):\n",
    "    data = s.readline()\n",
    "    print( data )\n",
    "s.close()"
   ]
  },
  {
   "cell_type": "markdown",
   "metadata": {},
   "source": [
    "## rotation matricies\n",
    "\n",
    "\\begin{align}\n",
    "X_\\theta & =\n",
    "\\begin{bmatrix}\n",
    " 1 & 0 & 0 \\vphantom{\\dfrac12}\\\\\n",
    " 0 & \\cos\\theta_1 & \\sin\\theta_1\\vphantom{\\dfrac12}\\\\\n",
    " 0 & -\\sin\\theta_1 & \\cos\\theta_1\\vphantom{\\dfrac12}\n",
    " \\end{bmatrix} \\\\\n",
    "Y_\\theta & =\n",
    "\\begin{bmatrix}\n",
    " \\cos\\theta_2 & 0 & -\\sin\\theta_2\\vphantom{\\dfrac12}\\\\\n",
    " 0 & 1 & 0 \\vphantom{\\dfrac12}\\\\\n",
    " \\sin\\theta_2 & 0 & \\cos\\theta_2\\vphantom{\\dfrac12}\n",
    " \\end{bmatrix} \\\\\n",
    "Z_\\theta & =\n",
    "\\begin{bmatrix}\n",
    " \\cos\\theta_3 & \\sin\\theta_3 & 0 \\vphantom{\\dfrac12}\\\\\n",
    " -\\sin\\theta_3 & \\cos\\theta_3 & 0 \\vphantom{\\dfrac12}\\\\\n",
    " 0 & 0 & 1 \\vphantom{\\dfrac12}\\\\\n",
    " \\end{bmatrix}\n",
    "\\end{align}\n"
   ]
  },
  {
   "cell_type": "markdown",
   "metadata": {},
   "source": [
    "\n",
    "## rotation around vector $\\vec{n}$\n",
    "\n",
    "\\begin{align}\n",
    "R(\\vec{n}, \\theta) \\cdot \\vec{r} &= \\vec{n}(\\vec{n} \\cdot \\vec{r}) + \\cos(\\theta)(\\vec{n} \\times \\vec{r}) \\times \\vec{n} + \\sin(\\theta) (\\vec{n} \\times \\vec{r})\\\\\n",
    "& =\\begin{bmatrix}\n",
    " \\cos\\theta+(1-\\cos\\theta)n_1^2&(1-\\cos\\theta)n_1n_2+\\sin\\theta n_3&(1-\\cos\\theta)n_1n_3-\\sin\\theta n_2 \\vphantom{\\dfrac12}\\\\\n",
    " (1-\\cos\\theta)n_2n_1-\\sin\\theta n_3&\\cos\\theta+(1-\\cos\\theta)n_2^2&(1-\\cos\\theta)n_2n_3+\\sin\\theta n_1\\vphantom{\\dfrac12}\\\\\n",
    " (1-\\cos\\theta)n_3n_1+\\sin\\theta n_2&(1-\\cos\\theta)n_3n_2-\\sin\\theta n_1&\\cos\\theta+(1-\\cos\\theta)n_3^2\\vphantom{\\dfrac12}\n",
    " \\end{bmatrix} \\cdot \\vec{v}\n",
    "\\end{align}\n"
   ]
  },
  {
   "cell_type": "markdown",
   "metadata": {},
   "source": [
    "## euler angle rotation\n",
    "\n",
    "The rotation of e.g. a vector can be described by rotating it 3 times with the rotation matricies along some axis.\n",
    "The rotation can be described either extrinsic as seen from the outside along a a fixed coordinate system x,y,z or intrinsic by rotating the (mobile) coordinate system \n",
    "\n",
    "For example the extrinsic (fixed-axis) rotation XYZ also called RPY (Roll-Pitch-Yaw) can be written with rotation matricies as:\n",
    "\\begin{align}\n",
    "\\vec{r}' = Z_\\theta Y_\\theta X_\\theta \\vec{r}\n",
    "\\end{align}\n",
    "where the rotation matricies get applied to vector $\\vec{r}$ in order X then Y then Z.\n",
    "\n",
    "The same (equal!)rotation written as an intrinsic (mobile-axis) rotation Z'Y'X' is:\n",
    "\\begin{align}\n",
    "\\vec{r}' &= X'_\\theta Y'_\\theta Z'_\\theta \\vec{r}\n",
    "\\end{align}\n",
    "\n",
    "Here is the proof that XYZ and Z'Y'X' are equivalent rotations\n",
    "\n",
    "\\begin{align}\n",
    "Z Y X &= \\big[ Y X Z Y^{-1} X^{-1} \\big] \\big[ X Y X^{-1} \\big] \\big[ X \\big] \\\\\n",
    "      &= Z' Y' X'\n",
    "\\end{align}\n",
    "\n",
    "the possible extrinsic rotations are: XYX, XYZ, XZX, XZY, YXY, YXZ, YZX, YZY, ZXY, ZXZ, ZYX, ZYZ<br>\n",
    "there are the same number of intrinsic rotations: X'Y'X', X'Y'Z', X'Z'X', X'Z'Y', Y'X'Y', Y'X'Z', Y'Z'X', Y'Z'Y', Z'X'Y', Z'X'Z', Z'Y'X', Z'Y'Z'<br>\n",
    "and a lot of mixed rotations (wich nobody uses).\n"
   ]
  },
  {
   "cell_type": "markdown",
   "metadata": {},
   "source": [
    "## quaternion\n",
    "\n",
    "4D numbers, wich can be written with a scalar part $a$ and a vector part $\\vec{v}$:\n",
    "\n",
    "\\begin{align}\n",
    "q &= a + ib + jc + kd \\\\\n",
    "&= (a,\\vec{v}) \\\\\n",
    "\\end{align}\n",
    "\n",
    "##### Addition\n",
    "\\begin{align}\n",
    "q_1 + q_2 &= (a_1 + a_2,\\vec{v}_1 + \\vec{v}_2) \\\\\n",
    "\\end{align}\n",
    "\n",
    "##### Multiplication\n",
    "\\begin{align}\n",
    "q_1 \\cdot q_2 &= (a_1 \\cdot a_2 - \\vec{v}_1 \\cdot \\vec{v}_2,a_1 \\vec{v}_2 + a_2 \\vec{v}_1 + \\vec{v}_1 \\times \\vec{v}_2) \\\\\n",
    "\\end{align}\n",
    "by multiplying the terms with each other using the identities: $i^2 = j^2 = k^2 = -1$, $ij = k = -ji$, $jk = i = -kj$ and $ki = j = -ik$ and rewritting them into scalars $a_1,a_2$ end vectors $(b_1,c_1,d_1),(b_2,c_2,d_2)$.\n",
    "\n",
    "##### Conjugate\n",
    "\\begin{align}\n",
    "q^* &= (a, -\\vec{v}) \\\\\n",
    "\\end{align}\n",
    "\n",
    "##### Length\n",
    "\\begin{align}\n",
    "|| q || &= q \\cdot q^* \\\\\n",
    "&= (a^2 + \\vec{v}^2, 0)\\\\\n",
    "&= a^2 + \\vec{v}^2\n",
    "\\end{align}\n",
    "\n",
    "##### Inverse\n",
    "\\begin{align}\n",
    "q \\cdot q^{-1} &\\stackrel{!}{=} 1 \\\\\n",
    "&= \\frac{|| q ||}{|| q ||} \\\\\n",
    "&= \\frac{q \\cdot q^*}{a^2 + \\vec{v}^2} \\\\\n",
    "&= q \\cdot \\frac{q^*}{a^2 + \\vec{v}^2} \\\\\n",
    "\\Rightarrow q^{-1} &= \\frac{q^*}{a^2 + \\vec{v}^2} = \\bigg( \\frac{a}{a^2 + \\vec{v}^2},\\frac{-\\vec{v}}{a^2 + \\vec{v}^2} \\bigg)\n",
    "\\end{align}\n",
    "\n",
    "for unit quaternion\n",
    "\\begin{align}\n",
    "|| q || &= 1 \\\\\n",
    "q^{-1} &= q^* = (a,-\\vec{v}) \\\\\n",
    "\\end{align}\n",
    "\n",
    "##### exponential\n",
    "\n",
    "using taylor expansion and $\\vec{v} = bi+cj+dk$, $(\\vec{v})^2=-b^2-c^2-d^2=-|\\vec{v}|^2$, $(\\vec{v})^n=(-1)^m(\\vec{v})^{n-2m}$\n",
    "\\begin{align}\n",
    "e^{q} &= e^{a+bi+cj+dk} \\\\\n",
    "&= e^a e^{bi+cj+dk} \\\\\n",
    "&= e^a e^{\\vec{v}} \\\\\n",
    "&= e^a \\sum_{n=0}^\\infty \\frac{|\\vec{v}|^n}{n!} \\\\\n",
    "&= e^a \\Big( \\sum_{n=0}^\\infty \\frac{|\\vec{v}|^{2n}}{(2n)!} + \\sum_{n=0}^\\infty (-1)^{n}\\frac{\\vec{v}}{|\\vec{v}|}\\frac{|\\vec{v}|^{2n+1}}{(2n+1)!} \\Big) \\\\\n",
    "&= e^a \\Big( \\cos\\big|\\vec{v}\\big| + \\frac{\\vec{v}}{|\\vec{v}|}\\sin\\big|\\vec{v}\\big| \\Big) \\\\\n",
    "\\end{align}\n",
    "or with the first elements of the series written out (with $\\theta = |\\vec{v}|$):\n",
    "\\begin{align}\n",
    "\\begin{split}\n",
    "e^\\mathbf{v}&=\\sum_{k=0}^\\infty\\dfrac{\\mathbf{v}^k}{k!}=\\\\\n",
    "&=1+\\dfrac{\\mathbf{v}}{1!}-\\dfrac{\\theta^2}{2!}-\\dfrac{\\theta^2\\mathbf{v}}{3!}+\\dfrac{\\theta^4}{4!}+\\dfrac{\\theta^4\\mathbf{v}}{5!}-\\dfrac{\\theta^6}{6!}+\\cdots=\\\\\n",
    "&=1+\\dfrac{\\theta\\mathbf{v}}{1!\\,\\theta}-\\dfrac{\\theta^2}{2!}-\\dfrac{\\theta^3\\mathbf{v}}{3!\\,\\theta}+\\dfrac{\\theta^4}{4!}+\\dfrac{\\theta^5\\mathbf{v}}{5!\\,\\theta}-\\dfrac{\\theta^6}{6!}+\\cdots=\\\\\n",
    "&=\\left(1-\\dfrac{\\theta^2}{2!}+\\dfrac{\\theta^4}{4!}-\\dfrac{\\theta^6}{6!}\\cdots\\right)+\\dfrac{\\mathbf{v}}{\\theta}\\left( \\dfrac{\\theta}{1!}-\\dfrac{\\theta^3}{3!}+\\dfrac{\\theta^5}{5!}\\cdots\\right)=\\\\\n",
    "&=\\cos\\theta +\\dfrac{\\mathbf{v}}{\\theta}\\sin\\theta\n",
    "\\end{split}\n",
    "\\end{align}"
   ]
  },
  {
   "cell_type": "markdown",
   "metadata": {},
   "source": [
    "### quaternion rotation\n",
    "\n",
    "similiar to rotation in the complex plane by multiplying complex number with $e^{i\\theta}$.\n",
    "\n",
    "rotate a vector written with quaternions $r = ix + jy + kz$ by a quaternion $q = a + ib + jc + kd = e^{\\frac{\\theta}{2}(ib + jc + kd)} = \\cos(\\theta) + \\sin(\\theta) \\big(ib + jc + kd \\big)$ with\n",
    "\\begin{align}\n",
    "R_q r = q r q^{-1}\n",
    "\\end{align}\n",
    "\n",
    "where $q^{-1} = q^* = a - ib - jc - kd$ (for a unit vector).\n",
    "This can be proven by multiplying the components of $q^{-1},q,v$ out and rearranging, such that the result is the rotation around a vector $R(\\vec{n}, \\theta) \\cdot \\vec{r} = \\vec{n}(\\vec{n} \\cdot \\vec{r}) + \\cos(\\theta)(\\vec{n} \\times \\vec{r}) \\times \\vec{n} + \\sin(\\theta) (\\vec{n} \\times \\vec{r})$.\n",
    "\n",
    "To rotate this vector by two quaternions $q$, $q'$ we can multiply the quaternions together:\n",
    "\\begin{align}\n",
    "R_{q'}(R_q r) = q' q \\,r\\, q^{-1} q'^{-1} = q' q \\,r\\, (q' q)^{-1}  = R_{q'q} r\n",
    "\\end{align}\n"
   ]
  },
  {
   "cell_type": "markdown",
   "metadata": {},
   "source": [
    "## quaternion time derivative\n",
    "the gyro returns not a procedual rotation along the three axis in a specific order but a simultaneous rotation along all axis. Since rotation with euler angles is executed one axis after another the best to deal with gyro rotation is to convert it directly to quaternions.\n",
    "\n",
    "first define rotation velocity:\n",
    "\\begin{align}\n",
    "v &= \\frac{d}{dt} r \\\\\n",
    "v &= \\vec{\\omega} \\times \\vec{r}\n",
    "\\end{align}\n",
    "\n",
    "calculating the derivative\n",
    "\\begin{align}\n",
    "\\frac{d}{dt} r &= \\frac{dr}{dt} \\big( q r_0 q^{-1} \\big) \\\\\n",
    "&= \\dot{q} r_0 q^{-1} + q r_0 \\dot{q}^{-1}\n",
    "\\end{align}\n",
    "\n",
    "for unit vectors, as used for rotation the following holds true:\n",
    "\\begin{align}\n",
    "0 &= \\frac{d}{dt} 1 \\\\\n",
    "&= \\frac{d}{dt} \\big( q q^* \\big) \\\\\n",
    "&= \\frac{d}{dt} \\big( q q^{-1} \\big) \\\\\n",
    "&= \\dot{q} q^{-1} + q \\dot{q}^{-1}  \\\\\n",
    "\\Rightarrow \\dot{q} &= q \\dot{q}^{-1} q \\\\\n",
    "\\Rightarrow \\dot{q}^{-1} &= - q^{-1} \\dot{q} q^{-1}\n",
    "\\end{align}\n",
    "\n",
    "from wich follows:\n",
    "\\begin{align}\n",
    "\\frac{d}{dt} r &= \\dot{q} r_0 q^{-1} - q r_0 q^{-1} \\dot{q} q^{-1}\n",
    "\\end{align}\n",
    "\n",
    "transforming this with $r_0 = q^{-1} r q$ results in:\n",
    "\\begin{align}\n",
    "\\frac{d}{dt} r &= \\dot{q} q^{-1} r - r \\dot{q} q^{-1} \\\\\n",
    "&= \\big[\\dot{q} q^{-1}, r \\big]\n",
    "\\end{align}\n",
    "\n",
    "since $r$ (by definition) and $p = \\dot{q} q^{-1}$ ($\\dot{q} \\cdot q^{-1}=\\sum_i \\dot{q}_i q_i = \\dot{\\vec{q}} \\vec{q} = |\\dot{\\vec{q}}| |\\vec{q} | \\cos(90^\\circ) = 0$) are vector quaternion without a scalar part the commutator relation with any quaternion should result in the following:\n",
    "\\begin{align}\n",
    "\\big[ p, r \\big] &= p r - r p \\\\\n",
    "&= (a_1 \\cdot a_2 - \\vec{v}_1 \\cdot \\vec{v}_2,a_1 \\vec{v}_2 + a_2 \\vec{v}_1 + \\vec{v}_1 \\times \\vec{v}_2) - (a_2 \\cdot a_1 - \\vec{v}_2 \\cdot \\vec{v}_1,a_2 \\vec{v}_1 + a_2 \\vec{v}_1 + \\vec{v}_2 \\times \\vec{v}_1) \\\\\n",
    "&= (- \\vec{v}_1 \\cdot \\vec{v}_2, \\vec{v}_1 \\times \\vec{v}_2) - (- \\vec{v}_2 \\cdot \\vec{v}_1,\\vec{v}_2 \\times \\vec{v}_1) \\\\\n",
    "&= 2(0,\\vec{v}_1 \\times \\vec{v}_2) \\\\\n",
    "&= 2 p r\n",
    "\\end{align}\n",
    "\n",
    "with this in mind we get:\n",
    "\\begin{align}\n",
    "\\frac{d}{dt} r &= \\big[\\dot{q} q^{-1}, r \\big] \\\\\n",
    "&= 2 \\dot{q} q^{-1} r\n",
    "\\end{align}\n",
    "\n",
    "so our differential equation becomes\n",
    "\\begin{align}\n",
    "2 \\dot{q} q^{-1} r &= \\omega r \\\\\n",
    "\\Leftrightarrow \\dot{q} &= \\frac{1}{2} \\omega q\n",
    "\\end{align}\n",
    "\n",
    "here $\\omega$ is extrinsic. we transform it to the intrinsic rotation $\\omega = q \\omega' q^{-1}$ as measured by the gyro:\n",
    "\\begin{align}\n",
    "\\dot{q} &= \\frac{1}{2} q \\omega'\n",
    "\\end{align}\n",
    "\n",
    "inserting $q = a + ib + jc + kd$ and $\\omega = i\\omega_x + j\\omega_y + k\\omega_z$ and multiplying out gives us:\n",
    "\\begin{align}\n",
    "\\dot{a} + i\\dot{b} + j\\dot{c} + k\\dot{d} &= \\frac{1}{2} ... \\\\\n",
    "\\underbrace{\\begin{pmatrix} \\dot{a} \\\\ \\dot{b} \\\\ \\dot{c} \\\\ \\dot{d} \\end{pmatrix}}_{\\dot{q}(t)} \\cdot \\begin{pmatrix} 1 \\\\ i \\\\ j \\\\ k \\end{pmatrix}  &= \\frac{1}{2} \\underbrace{\\begin{pmatrix}0 & - \\omega_x & - \\omega_y & - \\omega_z \\\\ \\omega_x & 0 & \\omega_z & - \\omega_y \\\\ \\omega_y & - \\omega_z & 0 & \\omega_x \\\\ \\omega_z & \\omega_y & - \\omega_x & 0 \\end{pmatrix}}_{A} \\cdot \\underbrace{\\begin{pmatrix} a \\\\ b \\\\ c \\\\ d \\end{pmatrix}}_{q(t)} \\cdot \\begin{pmatrix} 1 \\\\ i \\\\ j \\\\ k \\end{pmatrix} \n",
    "\\end{align}\n",
    "\n",
    "This differential equation is equal to $\\dot{q(t)} = 1/2 A q(t)$ with the solution:\n",
    "\\begin{align}\n",
    "q(t) &= q_0 e^{A/2 (t-t_0)} \\\\\n",
    "... \\\\\n",
    "&= q_0 e^{\\omega/2 (t-t_0)} \\\\\n",
    "\\end{align}\n"
   ]
  },
  {
   "cell_type": "markdown",
   "metadata": {},
   "source": [
    "### quaternion integration for gyro\n",
    "we use\n",
    "\\begin{align}\n",
    "\\dot{q} = \\frac{1}{2} q \\omega' \\\\\n",
    "\\approx \\frac{q_{t+1}-q_{t}}{\\Delta t}\n",
    "\\end{align}\n",
    "\n",
    "from wich follows\n",
    "\\begin{align}\n",
    "q_{t+1} \\approx q_{t} + \\frac{1}{2} q_{t} \\omega' \\Delta t\n",
    "\\end{align}"
   ]
  },
  {
   "cell_type": "markdown",
   "metadata": {},
   "source": [
    "### euler angles -> quaternions\n",
    "\n",
    "ZYX extrinsic euler notation\n",
    "\n",
    "1. yaw around z-axis: $q_{x,\\alpha} = \\cos\\frac\\alpha2 + \\left(\\sin\\frac\\alpha2\\right)\\mathrm i$\n",
    "2. pitch around y-axis: $q_{y,\\beta} = \\cos\\frac\\beta2 + \\left(\\sin\\frac\\beta2\\right)\\mathrm j$\n",
    "3. roll around x-axis: $q_{z,\\gamma} = \\cos\\frac\\gamma2 + \\left(\\sin\\frac\\gamma2\\right)\\mathrm k$\n",
    "\n",
    "with $i^2 = j^2 = k^2 = -1$, $ij = k = -ji$, $jk = i = -kj$ and $ki = j = -ik$ this results in:\n",
    "\n",
    "\\begin{align}\n",
    "q_{z,\\gamma}q_{y,\\beta}q_{x,\\alpha}\n",
    " &= \\left(\\cos\\frac\\gamma2 + \\left(\\sin\\frac\\gamma2\\right)\\mathrm k\\right)\n",
    "   \\left(\\cos\\frac\\beta2 + \\left(\\sin\\frac\\beta2\\right)\\mathrm j\\right)\n",
    "   \\left(\\cos\\frac\\alpha2 + \\left(\\sin\\frac\\alpha2\\right)\\mathrm i\\right) \\\\\n",
    "&= \\left(\\cos\\frac\\gamma2+ \\left(\\sin\\frac\\gamma2\\right)\\mathrm k\\right) \\\\\n",
    "& \\qquad \\left(\\cos\\frac\\alpha2\\cos\\frac\\beta2\n",
    "   + \\left(\\sin\\frac\\alpha2\\cos\\frac\\beta2\\right)\\mathrm i\n",
    " + \\left(\\cos\\frac\\alpha2\\sin\\frac\\beta2\\right)\\mathrm j\n",
    "   - \\left(\\sin\\frac\\alpha2\\sin\\frac\\beta2\\right)\\mathrm k\\right) \\\\\n",
    "&= \\cos\\frac\\alpha2\\cos\\frac\\beta2\\cos\\frac\\gamma2\n",
    "  + \\sin\\frac\\alpha2\\sin\\frac\\beta2\\sin\\frac\\gamma2 \\\\\n",
    "& \\qquad + \\left(\\sin\\frac\\alpha2\\cos\\frac\\beta2\\cos\\frac\\gamma2\n",
    "              - \\cos\\frac\\alpha2\\sin\\frac\\beta2\\sin\\frac\\gamma2\\right)\\mathrm i\\\\\n",
    "& \\qquad + \\left(\\cos\\frac\\alpha2\\sin\\frac\\beta2\\cos\\frac\\gamma2\n",
    "              + \\sin\\frac\\alpha2\\cos\\frac\\beta2\\sin\\frac\\gamma2\\right)\\mathrm j\\\\\n",
    "& \\qquad + \\left(\\cos\\frac\\alpha2\\cos\\frac\\beta2\\sin\\frac\\gamma2\n",
    "              - \\sin\\frac\\alpha2\\sin\\frac\\beta2\\cos\\frac\\gamma2\\right)\\mathrm k.\n",
    "\\end{align}"
   ]
  },
  {
   "cell_type": "code",
   "execution_count": 5,
   "metadata": {},
   "outputs": [
    {
     "data": {
      "text/plain": [
       "(array([0.23152647, 0.9140628 , 0.2959086 , 0.15271805]),\n",
       " 1.0,\n",
       " array([ 0.23152647, -0.9140628 , -0.2959086 , -0.15271805]),\n",
       " array([-0.75775683,  0.38957268,  0.17785234, -0.4923477 ]),\n",
       " array([0.23152647, 0.06788476, 0.96532317, 0.0996912 ]),\n",
       " array([0.78606663, 0.16751879, 0.57094147, 0.16751879]))"
      ]
     },
     "execution_count": 5,
     "metadata": {},
     "output_type": "execute_result"
    }
   ],
   "source": [
    "import numpy as np\n",
    "\n",
    "def quaternion_multiply(q0, q1):\n",
    "    return np.array([-q1[1] * q0[1] - q1[2] * q0[2] - q1[3] * q0[3] + q1[0] * q0[0],\n",
    "                     q1[1] * q0[0] + q1[2] * q0[3] - q1[3] * q0[2] + q1[0] * q0[1],\n",
    "                     -q1[1] * q0[3] + q1[2] * q0[0] + q1[3] * q0[1] + q1[0] * q0[2],\n",
    "                     q1[1] * q0[2] - q1[2] * q0[1] + q1[3] * q0[0] + q1[0] * q0[3]])\n",
    "\n",
    "def quaternion_inverse(q):\n",
    "    return np.array([q[0],-q[1],-q[2],-q[3]])\n",
    "\n",
    "def quaternion_length(q):\n",
    "    return np.sqrt(q[0]**2+q[1]**2+q[2]**2+q[3]**2)\n",
    "\n",
    "def quaternion_rotate(q, q_rot):\n",
    "    return quaternion_multiply( quaternion_multiply(q_rot,q) , quaternion_inverse(q_rot) )\n",
    "\n",
    "def vector_rotate(vec, q):\n",
    "    qv = np.array([0,vec[0],vec[1],vec[2]])\n",
    "    qv = quaternion_rotate(qv,q)\n",
    "    return qv[1:4]\n",
    "\n",
    "#rotation in ZYX extrinsic (fixed-axis) order = XYZ intrinsic\n",
    "def euler_to_quaternion(a,b,c):\n",
    "    ca = np.cos(a/2); sa = np.sin(a/2);\n",
    "    cb = np.cos(b/2); sb = np.sin(b/2);\n",
    "    cc = np.cos(c/2); sc = np.sin(c/2);\n",
    "    return np.array([ca*cb*cc+sa*sb*sc,sa*cb*cc-ca*sb*sc,ca*sb*cc+sa*cb*sc,ca*cb*sc-sa*sb*cc])\n",
    "\n",
    "q0 = np.random.rand(4)\n",
    "q0 /= quaternion_length(q0)\n",
    "q1 = np.random.rand(4)\n",
    "q1 /= quaternion_length(q1)\n",
    "q0 , quaternion_length(q0) , quaternion_inverse(q0) , quaternion_multiply(q0, q1) , quaternion_rotate(q0, q1) , euler_to_quaternion(1,1,1)"
   ]
  },
  {
   "cell_type": "code",
   "execution_count": 6,
   "metadata": {},
   "outputs": [
    {
     "name": "stdout",
     "output_type": "stream",
     "text": [
      "rotate [1,1,1] around x-axis:  [ 1. -1.  1.]\n",
      "rotate [1,1,1] around y-axis:  [ 1.  1. -1.]\n",
      "rotate [1,1,1] around z-axis:  [-1.  1.  1.]\n"
     ]
    }
   ],
   "source": [
    "vec = np.array([1,1,1])\n",
    "print( 'rotate [1,1,1] around x-axis: ' , vector_rotate(vec,euler_to_quaternion(-pi/2,0,0)) )\n",
    "print( 'rotate [1,1,1] around y-axis: ' , vector_rotate(vec,euler_to_quaternion(0,-pi/2,0)) )\n",
    "print( 'rotate [1,1,1] around z-axis: ' , vector_rotate(vec,euler_to_quaternion(0,0,-pi/2)) )"
   ]
  },
  {
   "cell_type": "raw",
   "metadata": {
    "scrolled": false
   },
   "source": [
    "# test live 3D vector plotting\n",
    "%matplotlib inline\n",
    "\n",
    "import numpy as np\n",
    "import matplotlib.pyplot as plt\n",
    "\n",
    "#data\n",
    "N = 100\n",
    "t = 0\n",
    "dt = 2*np.pi/N\n",
    "x = [np.cos(t)]\n",
    "y = [np.sin(t)]\n",
    "u = [-0.5*np.cos(t)]\n",
    "v = [-0.5*np.sin(t)]\n",
    "\n",
    "#plot\n",
    "plt.ion()\n",
    "\n",
    "fig = plt.figure(figsize=(6,4))\n",
    "ax = fig.add_subplot(111,projection=\"3d\")\n",
    "ax.set_xlim(-1.1,1.1)\n",
    "ax.set_ylim(-1.1,1.1)\n",
    "ax.set_zlim(-1.1,1.1)\n",
    "im, = ax.plot(x,y,y,color='b',marker='o',ls='')\n",
    "Quiv = ax.quiver(x,y,y,u,v,v)\n",
    "fig.canvas.draw()\n",
    "\n",
    "for update in range(N):\n",
    "    \n",
    "    #add data\n",
    "    t += dt\n",
    "    x.append(np.cos(t))\n",
    "    y.append(np.sin(t))\n",
    "    u.append(-0.5*np.cos(t))\n",
    "    v.append(-0.5*np.sin(t))\n",
    "    \n",
    "    #update plot\n",
    "    im.remove()\n",
    "    im, = ax.plot(x,y,y,color='b',marker='o',ls='')\n",
    "    \n",
    "    Quiv.remove()\n",
    "    Quiv = ax.quiver(x,y,y,u,v,v)\n",
    "    \n",
    "    fig.canvas.draw()\n",
    "    fig.canvas.flush_events()\n",
    "    #plt.pause(0.02)\n",
    "plt.show()"
   ]
  },
  {
   "cell_type": "markdown",
   "metadata": {},
   "source": [
    "### MPU6050\n",
    "\n",
    "<img src=\"mpu6050.jpg\" style=\"width:200px\">\n"
   ]
  },
  {
   "cell_type": "code",
   "execution_count": 11,
   "metadata": {
    "scrolled": true
   },
   "outputs": [],
   "source": [
    "import serial\n",
    "import time\n",
    "\n",
    "N = 100\n",
    "g = 9.81\n",
    "\n",
    "orientation = np.zeros((4,N+1)) #quaternions\n",
    "position = np.zeros((3,N+1)) #global coordinates\n",
    "velocity = np.zeros((3,N+1)) #global coordinates\n",
    "acceleration = np.zeros((3,N+1)) #global coordinates\n",
    "\n",
    "#initial position\n",
    "orientation[:,0] = np.array([0,0,0,1])\n",
    "position[:,0] = np.zeros(3)\n",
    "velocity[:,0] = np.zeros(3)\n",
    "acceleration[:,0] = 0\n",
    "\n",
    "x0,y0,z0 = np.array([1,0,0]),np.array([0,1,0]),np.array([0,0,1])\n",
    "dirMat = np.zeros((3,3))\n",
    "\n",
    "#open serial port\n",
    "s = serial.Serial(port=COMport, baudrate=115200, bytesize=serial.EIGHTBITS, timeout=2)\n",
    "i = 0\n",
    "while i<N:\n",
    "    data = s.readline()\n",
    "    #print( data )\n",
    "    try:\n",
    "        data = data.decode().strip('\\n').strip('\\r').split(\" \")\n",
    "    except:\n",
    "        pass\n",
    "    if len(data)==7:\n",
    "        i += 1\n",
    "        reading = [float(e) for e in data]\n",
    "        #print(reading)\n",
    "        \n",
    "        dt = reading[0]*1e-3\n",
    "        gyro = np.array(reading[0:4])\n",
    "        gyro[0] = 0 #vector quaternion\n",
    "        gyro[1:] = gyro[1:]*pi/180 #convert to radiants/s\n",
    "        accel = np.array(reading[4:7])\n",
    "\n",
    "        orientation[:,i] = orientation[:,i-1] + 1/2*quaternion_multiply(orientation[:,i-1],gyro)*dt\n",
    "        x,y,z = vector_rotate(x0,orientation[:,i]), vector_rotate(y0,orientation[:,i]), vector_rotate(z0,orientation[:,i])\n",
    "        dirMat[:,0],dirMat[:,1],dirMat[:,2] = x,y,z\n",
    "        acceleration[:,i] = accel\n",
    "        velocity[:,i] = velocity[:,i-1] + np.matmul(dirMat,acceleration[:,i])*g*dt\n",
    "        position[:,i] = position[:,i-1] + np.matmul(dirMat,velocity[:,i])*dt + np.matmul(dirMat,acceleration[:,i])*g/2*dt**2\n",
    "\n",
    "s.close()"
   ]
  },
  {
   "cell_type": "code",
   "execution_count": 13,
   "metadata": {
    "scrolled": true
   },
   "outputs": [
    {
     "data": {
      "image/png": "[encoded data removed]",
      "text/plain": [
       "<Figure size 432x288 with 1 Axes>"
      ]
     },
     "metadata": {
      "needs_background": "light"
     },
     "output_type": "display_data"
    }
   ],
   "source": [
    "%matplotlib inline\n",
    "\n",
    "import numpy as np\n",
    "import matplotlib.pyplot as plt\n",
    "\n",
    "#plot\n",
    "fig = plt.figure(figsize=(6,4))\n",
    "ax = fig.add_subplot(111,projection=\"3d\")\n",
    "#ax.set_xlim(-1.1,1.1)\n",
    "#ax.set_ylim(-1.1,1.1)\n",
    "#ax.set_zlim(-1.1,1.1)\n",
    "ax.plot(position[0,1:],position[1,1:],position[2,1:],color='b',marker='o')\n",
    "ax.quiver(position[0,1:],position[1,1:],position[2,1:],\n",
    "          orientation[1,1:],orientation[2,1:],orientation[3,1:])\n",
    "plt.show()"
   ]
  },
  {
   "cell_type": "code",
   "execution_count": null,
   "metadata": {},
   "outputs": [],
   "source": []
  }
 ],
 "metadata": {
  "kernelspec": {
   "display_name": "Python 3",
   "language": "python",
   "name": "python3"
  },
  "language_info": {
   "codemirror_mode": {
    "name": "ipython",
    "version": 3
   },
   "file_extension": ".py",
   "mimetype": "text/x-python",
   "name": "python",
   "nbconvert_exporter": "python",
   "pygments_lexer": "ipython3",
   "version": "3.8.8"
  }
 },
 "nbformat": 4,
 "nbformat_minor": 4
}
